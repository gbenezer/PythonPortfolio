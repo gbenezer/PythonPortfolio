{
 "cells": [
  {
   "cell_type": "markdown",
   "metadata": {},
   "source": [
    "This notebook will be used to document the answers to the problems in Chapter 1 of the book"
   ]
  },
  {
   "cell_type": "markdown",
   "metadata": {},
   "source": [
    "Problem 5:"
   ]
  },
  {
   "cell_type": "code",
   "execution_count": 1,
   "metadata": {},
   "outputs": [
    {
     "name": "stdout",
     "output_type": "stream",
     "text": [
      "A triangle with base 10 and height 12 has an area of 60.0\n"
     ]
    }
   ],
   "source": [
    "base = 10\n",
    "height = 12\n",
    "area = (1/2) * base * height\n",
    "\n",
    "print(f\"A triangle with base {base} and height {height} has an area of {area}\")"
   ]
  },
  {
   "cell_type": "markdown",
   "metadata": {},
   "source": [
    "Problem 6:"
   ]
  },
  {
   "cell_type": "code",
   "execution_count": 10,
   "metadata": {},
   "outputs": [
    {
     "name": "stdout",
     "output_type": "stream",
     "text": [
      "For a cylinder of radius 5 and height 3,\n",
      "the surface area is 172.79 and the volume is 235.62.\n"
     ]
    }
   ],
   "source": [
    "import numpy as np\n",
    "\n",
    "radius = 5\n",
    "height = 3\n",
    "base_area = (np.pi * (radius ** 2))\n",
    "side_area = (2 * np.pi * radius * height)\n",
    "\n",
    "surface_area = base_area + side_area\n",
    "vol = base_area * height\n",
    "\n",
    "(print(f\"For a cylinder of radius {radius} and height {height},\" +\n",
    "       f\"\\nthe surface area is {np.round(surface_area, decimals=2)} \" +\n",
    "       f\"and the volume is {np.round(vol, decimals=2)}.\"))"
   ]
  },
  {
   "cell_type": "markdown",
   "metadata": {},
   "source": [
    "Problem 7 and 8:"
   ]
  },
  {
   "cell_type": "code",
   "execution_count": 11,
   "metadata": {},
   "outputs": [
    {
     "name": "stdout",
     "output_type": "stream",
     "text": [
      "The slope between points [3 4] and [5 9] is 2.5.\n",
      "The Euclidean distance (or 2-norm) between [3 4] and [5 9] is 5.39\n"
     ]
    }
   ],
   "source": [
    "a = np.array([3, 4])\n",
    "b = np.array([5, 9])\n",
    "\n",
    "slope = (b[1] - a[1])/(b[0] - a[0])\n",
    "distance = np.linalg.norm((b-a), ord=2)\n",
    "\n",
    "print(f\"The slope between points {a} and {b} is {np.round(slope, decimals=2)}.\\n\" +\n",
    "      f\"The Euclidean distance (or 2-norm) between {a} and {b} \" +\n",
    "      f\"is {np.round(distance, decimals=2)}\")"
   ]
  },
  {
   "cell_type": "markdown",
   "metadata": {},
   "source": [
    "Problem 9:"
   ]
  }
 ],
 "metadata": {
  "kernelspec": {
   "display_name": "base",
   "language": "python",
   "name": "python3"
  },
  "language_info": {
   "codemirror_mode": {
    "name": "ipython",
    "version": 3
   },
   "file_extension": ".py",
   "mimetype": "text/x-python",
   "name": "python",
   "nbconvert_exporter": "python",
   "pygments_lexer": "ipython3",
   "version": "3.9.16"
  },
  "orig_nbformat": 4
 },
 "nbformat": 4,
 "nbformat_minor": 2
}
