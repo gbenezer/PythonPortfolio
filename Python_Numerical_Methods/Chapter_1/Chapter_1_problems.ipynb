{
 "cells": [
  {
   "cell_type": "markdown",
   "metadata": {},
   "source": [
    "This notebook will be used to document the answers to the problems in Chapter 1 of the book"
   ]
  },
  {
   "cell_type": "markdown",
   "metadata": {},
   "source": [
    "Problem 5:"
   ]
  },
  {
   "cell_type": "code",
   "execution_count": 1,
   "metadata": {},
   "outputs": [
    {
     "name": "stdout",
     "output_type": "stream",
     "text": [
      "A triangle with base 10 and height 12 has an area of 60.0\n"
     ]
    }
   ],
   "source": [
    "base = 10\n",
    "height = 12\n",
    "area = (1/2) * base * height\n",
    "\n",
    "print(f\"A triangle with base {base} and height {height} has an area of {area}\")"
   ]
  },
  {
   "cell_type": "markdown",
   "metadata": {},
   "source": [
    "Problem 6:"
   ]
  },
  {
   "cell_type": "code",
   "execution_count": 1,
   "metadata": {},
   "outputs": [
    {
     "name": "stdout",
     "output_type": "stream",
     "text": [
      "For a cylinder of radius 5 and height 3,\n",
      "the surface area is 172.79 and the volume is 235.62.\n"
     ]
    }
   ],
   "source": [
    "import numpy as np\n",
    "\n",
    "radius = 5\n",
    "height = 3\n",
    "base_area = (np.pi * (radius ** 2))\n",
    "side_area = (2 * np.pi * radius * height)\n",
    "\n",
    "surface_area = base_area + side_area\n",
    "vol = base_area * height\n",
    "\n",
    "(print(f\"For a cylinder of radius {radius} and height {height},\" +\n",
    "       f\"\\nthe surface area is {np.round(surface_area, decimals=2)} \" +\n",
    "       f\"and the volume is {np.round(vol, decimals=2)}.\"))"
   ]
  },
  {
   "cell_type": "markdown",
   "metadata": {},
   "source": [
    "Problem 7 and 8:"
   ]
  },
  {
   "cell_type": "code",
   "execution_count": 11,
   "metadata": {},
   "outputs": [
    {
     "name": "stdout",
     "output_type": "stream",
     "text": [
      "The slope between points [3 4] and [5 9] is 2.5.\n",
      "The Euclidean distance (or 2-norm) between [3 4] and [5 9] is 5.39\n"
     ]
    }
   ],
   "source": [
    "a = np.array([3, 4])\n",
    "b = np.array([5, 9])\n",
    "\n",
    "slope = (b[1] - a[1])/(b[0] - a[0])\n",
    "distance = np.linalg.norm((b-a), ord=2)\n",
    "\n",
    "print(f\"The slope between points {a} and {b} is {np.round(slope, decimals=2)}.\\n\" +\n",
    "      f\"The Euclidean distance (or 2-norm) between {a} and {b} \" +\n",
    "      f\"is {np.round(distance, decimals=2)}\")"
   ]
  },
  {
   "cell_type": "markdown",
   "metadata": {},
   "source": [
    "Problem 9:"
   ]
  },
  {
   "cell_type": "code",
   "execution_count": 2,
   "metadata": {},
   "outputs": [
    {
     "name": "stdout",
     "output_type": "stream",
     "text": [
      "The value of 6! is 720\n"
     ]
    }
   ],
   "source": [
    "def fact(n):\n",
    "    '''\n",
    "    Defining a recursive factorial function\n",
    "\n",
    "    Yes, I know the problem asks to use the built-in function,\n",
    "    but this was simple enough to do\n",
    "\n",
    "    requires: an integer n\n",
    "    effects: returns the value n!\n",
    "    '''\n",
    "    \n",
    "    if n == 0:\n",
    "        return 1\n",
    "\n",
    "    elif n == 1:\n",
    "        return 1\n",
    "\n",
    "    else:\n",
    "        return n * fact(n-1)\n",
    "    \n",
    "print(f\"The value of 6! is {fact(6)}\")"
   ]
  },
  {
   "cell_type": "markdown",
   "metadata": {},
   "source": [
    "Problem 10"
   ]
  },
  {
   "cell_type": "code",
   "execution_count": 4,
   "metadata": {},
   "outputs": [
    {
     "name": "stdout",
     "output_type": "stream",
     "text": [
      "The number of leap days between 1500 and 2010 inclusive is 124.\n"
     ]
    }
   ],
   "source": [
    "def cum_leap(start, end):\n",
    "    \n",
    "    '''\n",
    "    Defining a function to calculate the cumulative number of\n",
    "    leap days between two given years, inclusive\n",
    "\n",
    "    requires: two non-negative integer years\n",
    "    effects: returns the number of leap days between the two integers,\n",
    "    inclusive\n",
    "    '''\n",
    "\n",
    "    # Initialization\n",
    "    leap_days = 0\n",
    "\n",
    "    for i in range(start, end + 1):\n",
    "        \n",
    "        if (i % 400 == 0) or (i % 100 != 0 and i % 4 == 0):\n",
    "            \"\"\"\n",
    "            Due to lazy evaluation, if the first proposition is true\n",
    "            the computation stops there. If it is false, then the program\n",
    "            evaluates the first proposition of the second clause, and if\n",
    "            the second evaluated expression is false the computation stops there.\n",
    "            Otherwise, all three propositions are evaluated.\n",
    "            \"\"\"\n",
    "\n",
    "            leap_days += 1\n",
    "\n",
    "    return leap_days\n",
    "\n",
    "print(f\"The number of leap days between 1500 and 2010 inclusive is {cum_leap(1500, 2010)}.\")"
   ]
  },
  {
   "cell_type": "markdown",
   "metadata": {},
   "source": [
    "Problem 14"
   ]
  },
  {
   "cell_type": "code",
   "execution_count": 8,
   "metadata": {},
   "outputs": [
    {
     "data": {
      "text/plain": [
       "0.9986295347545738"
      ]
     },
     "execution_count": 8,
     "metadata": {},
     "output_type": "execute_result"
    }
   ],
   "source": [
    "math.sin(math.radians(87))"
   ]
  },
  {
   "cell_type": "markdown",
   "metadata": {},
   "source": [
    "Problem 15"
   ]
  },
  {
   "cell_type": "code",
   "execution_count": 6,
   "metadata": {},
   "outputs": [
    {
     "ename": "AttributeError",
     "evalue": "module 'math' has no attribute 'sni'",
     "output_type": "error",
     "traceback": [
      "\u001b[1;31m---------------------------------------------------------------------------\u001b[0m",
      "\u001b[1;31mAttributeError\u001b[0m                            Traceback (most recent call last)",
      "Cell \u001b[1;32mIn[6], line 3\u001b[0m\n\u001b[0;32m      1\u001b[0m \u001b[39mimport\u001b[39;00m \u001b[39mmath\u001b[39;00m\n\u001b[1;32m----> 3\u001b[0m math\u001b[39m.\u001b[39;49msni(math\u001b[39m.\u001b[39mpi)\n",
      "\u001b[1;31mAttributeError\u001b[0m: module 'math' has no attribute 'sni'"
     ]
    }
   ],
   "source": [
    "import math\n",
    "\n",
    "math.sni(math.pi)"
   ]
  },
  {
   "cell_type": "markdown",
   "metadata": {},
   "source": [
    "Problem 16"
   ]
  },
  {
   "cell_type": "code",
   "execution_count": 7,
   "metadata": {},
   "outputs": [
    {
     "ename": "TypeError",
     "evalue": "math.sin() takes exactly one argument (0 given)",
     "output_type": "error",
     "traceback": [
      "\u001b[1;31m---------------------------------------------------------------------------\u001b[0m",
      "\u001b[1;31mTypeError\u001b[0m                                 Traceback (most recent call last)",
      "Cell \u001b[1;32mIn[7], line 1\u001b[0m\n\u001b[1;32m----> 1\u001b[0m math\u001b[39m.\u001b[39;49msin()\n",
      "\u001b[1;31mTypeError\u001b[0m: math.sin() takes exactly one argument (0 given)"
     ]
    }
   ],
   "source": [
    "math.sin()"
   ]
  },
  {
   "cell_type": "markdown",
   "metadata": {},
   "source": [
    "Problems 17, 18, and 19\n"
   ]
  },
  {
   "cell_type": "code",
   "execution_count": 14,
   "metadata": {},
   "outputs": [
    {
     "name": "stdout",
     "output_type": "stream",
     "text": [
      "If P is True, P AND NOT P is False\n",
      "If P is False, P AND NOT P is False\n",
      "Therefore, the Law of Noncontradiction holds\n",
      "\n",
      "\n",
      "If P is True and Q is True, then De Morgan's First Law evaluates to True, and De Morgan's Second Law evaluates to True\n",
      "\n",
      "If P is True and Q is False, then De Morgan's First Law evaluates to True, and De Morgan's Second Law evaluates to True\n",
      "\n",
      "If P is False and Q is True, then De Morgan's First Law evaluates to True, and De Morgan's Second Law evaluates to True\n",
      "\n",
      "If P is False and Q is False, then De Morgan's First Law evaluates to True, and De Morgan's Second Law evaluates to True\n",
      "\n",
      "\n",
      "\n",
      "The logical disjunction of the predicates is false when P is False and Q is True\n",
      "\n",
      "The logical disjunction of the predicates is false when P is False and Q is False\n"
     ]
    }
   ],
   "source": [
    "# Importing itertools for Cartesian product functionality\n",
    "\n",
    "import itertools\n",
    "\n",
    "# Problem 17\n",
    "\n",
    "print(f\"If P is True, P AND NOT P is {True and not True}\")\n",
    "print(f\"If P is False, P AND NOT P is {False and not False}\")\n",
    "print(\"Therefore, the Law of Noncontradiction holds\\n\")\n",
    "\n",
    "# Problem 18\n",
    "\n",
    "for P, Q in itertools.product((True, False), repeat=2):\n",
    "\n",
    "    first_lhs = not (P or Q)\n",
    "    first_rhs = (not P) and (not Q)\n",
    "\n",
    "    second_lhs = not (P and Q)\n",
    "    second_rhs = (not P) or (not Q)\n",
    "\n",
    "    print(f\"\\nIf P is {P} and Q is {Q}, then De Morgan's First Law \" +\n",
    "          f\"evaluates to {first_lhs == first_rhs}, and De Morgan's Second Law \" +\n",
    "          f\"evaluates to {second_lhs == second_rhs}\")\n",
    "    \n",
    "# Problem 19\n",
    "\n",
    "print(\"\\n\")\n",
    "\n",
    "for P, Q in itertools.product((True, False), repeat=2):\n",
    "\n",
    "    predicate_one = P and Q\n",
    "    predicate_two = P and not Q\n",
    "\n",
    "    if not(predicate_one or predicate_two):\n",
    "        print(f\"\\nThe logical disjunction of the predicates is false when \" +\n",
    "              f\"P is {P} and Q is {Q}\")\n",
    "\n",
    "\n"
   ]
  },
  {
   "cell_type": "markdown",
   "metadata": {},
   "source": [
    "Problems 20, 21, and 22"
   ]
  },
  {
   "cell_type": "code",
   "execution_count": 8,
   "metadata": {},
   "outputs": [
    {
     "name": "stdout",
     "output_type": "stream",
     "text": [
      "Based on De Morgan's Laws, NOT(NOT(P) AND NOT(Q)) == P OR Q.\n",
      "According to Python's SymPy module, the truth tables of those expressions are equivalent.\n",
      "\n",
      "Based on De Morgan's Laws, NOT(NOT(P) OR NOT(Q)) == P AND Q.\n",
      "According to Python's SymPy module, the truth tables of those expressions are equivalent.\n",
      "\n",
      "Exclusive disjunction (exclusive or, XOR), is only true when exactly one Boolean variable is true.\n",
      "Inclusive disjunction (OR) is true when either one or both variables are true.\n",
      "Therefore, P XOR Q == (P OR Q) AND NOT(P AND Q) should have the same truth tables.\n",
      "According to Python's SymPy module, the truth tables of those expressions are equivalent.\n"
     ]
    }
   ],
   "source": [
    "# Just found out that there are functions in SymPy that can test the equivalence of\n",
    "# Boolean expressions by comparison of their truth tables\n",
    "\n",
    "from sympy import And, Or, Not, Xor\n",
    "from sympy.abc import P, Q\n",
    "\n",
    "# To prove that particular logical formulae are equivalent, it must be demonstrated that they have equivalent\n",
    "# truth tables\n",
    "\n",
    "# Problem 20\n",
    "\n",
    "eq_var_1 = \"equivalent.\" if Not(And(Not(P), Not(Q))).equals(Or(P, Q)) else \"not equivalent.\"\n",
    "\n",
    "(print(f\"Based on De Morgan's Laws, NOT(NOT(P) AND NOT(Q)) == P OR Q.\\n\" + \n",
    "       f\"According to Python's SymPy module, the truth tables of those expressions are \" +\n",
    "       f\"{eq_var_1}\"))\n",
    "\n",
    "# Problem 21\n",
    "\n",
    "eq_var_2 = \"equivalent.\" if Not(Or(Not(P), Not(Q))).equals(And(P, Q)) else \"not equivalent.\"\n",
    "\n",
    "(print(f\"\\nBased on De Morgan's Laws, NOT(NOT(P) OR NOT(Q)) == P AND Q.\\n\" + \n",
    "       f\"According to Python's SymPy module, the truth tables of those expressions are \" +\n",
    "       f\"{eq_var_2}\"))\n",
    "\n",
    "# Problem 22\n",
    "\n",
    "eq_var_3 = \"equivalent.\" if And(Or(P, Q),Not(And(P, Q))).equals(Xor(P, Q)) else \"not equivalent.\"\n",
    "\n",
    "(print(f\"\\nExclusive disjunction (exclusive or, XOR), is only true when exactly one Boolean variable is true.\\n\" +\n",
    "       f\"Inclusive disjunction (OR) is true when either one or both variables are true.\\n\" +\n",
    "       f\"Therefore, P XOR Q == (P OR Q) AND NOT(P AND Q) should have the same truth tables.\\n\" +\n",
    "       f\"According to Python's SymPy module, the truth tables of those expressions are {eq_var_3}\"))"
   ]
  }
 ],
 "metadata": {
  "kernelspec": {
   "display_name": "base",
   "language": "python",
   "name": "python3"
  },
  "language_info": {
   "codemirror_mode": {
    "name": "ipython",
    "version": 3
   },
   "file_extension": ".py",
   "mimetype": "text/x-python",
   "name": "python",
   "nbconvert_exporter": "python",
   "pygments_lexer": "ipython3",
   "version": "3.9.16"
  },
  "orig_nbformat": 4
 },
 "nbformat": 4,
 "nbformat_minor": 2
}
