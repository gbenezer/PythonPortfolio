{
 "cells": [
  {
   "cell_type": "markdown",
   "metadata": {},
   "source": [
    "Problems 1 through 4"
   ]
  },
  {
   "cell_type": "code",
   "execution_count": 2,
   "metadata": {},
   "outputs": [
    {
     "name": "stdout",
     "output_type": "stream",
     "text": [
      "Currently, x is equal to 2 and y is equal to 3\n",
      "\n",
      "Variable   Type      Data/Info\n",
      "------------------------------\n",
      "math       module    <module 'math' (built-in)>\n",
      "p          int       1000\n",
      "r          float     -4.352168887114958\n",
      "s          float     -4.940158120464309\n",
      "u          int       13\n",
      "v          int       30\n",
      "w          float     3.3333333333333335\n",
      "x          int       10\n",
      "y          int       3\n",
      "z          float     -0.5440211108893698\n"
     ]
    }
   ],
   "source": [
    "# Problem 1\n",
    "\n",
    "# Variable Assignment\n",
    "\n",
    "x = 2\n",
    "y = 3\n",
    "\n",
    "print(f\"Currently, x is equal to {x} and y is equal to {y}\\n\")\n",
    "\n",
    "del x\n",
    "\n",
    "# Problem 3\n",
    "\n",
    "# Import Statements\n",
    "\n",
    "import math\n",
    "\n",
    "# Variable Assignment\n",
    "\n",
    "x = 10\n",
    "y = 3\n",
    "\n",
    "u = x + y\n",
    "v = x * y\n",
    "w = x / y\n",
    "z = math.sin(x)\n",
    "r = 8 * math.sin(x)\n",
    "s = 5 * math.sin(v)\n",
    "p = x ** y\n",
    "\n",
    "# Variable Display\n",
    "\n",
    "%whos"
   ]
  },
  {
   "cell_type": "code",
   "execution_count": 3,
   "metadata": {},
   "outputs": [
    {
     "ename": "NameError",
     "evalue": "name 'x' is not defined",
     "output_type": "error",
     "traceback": [
      "\u001b[1;31m---------------------------------------------------------------------------\u001b[0m",
      "\u001b[1;31mNameError\u001b[0m                                 Traceback (most recent call last)",
      "Cell \u001b[1;32mIn[3], line 5\u001b[0m\n\u001b[0;32m      1\u001b[0m \u001b[39m# Problem 2\u001b[39;00m\n\u001b[0;32m      3\u001b[0m \u001b[39mdel\u001b[39;00m x\n\u001b[1;32m----> 5\u001b[0m \u001b[39mprint\u001b[39m(x)\n",
      "\u001b[1;31mNameError\u001b[0m: name 'x' is not defined"
     ]
    }
   ],
   "source": [
    "# Problem 2\n",
    "\n",
    "del x\n",
    "\n",
    "print(x)"
   ]
  },
  {
   "cell_type": "markdown",
   "metadata": {},
   "source": [
    "Problems 4 through"
   ]
  }
 ],
 "metadata": {
  "kernelspec": {
   "display_name": "base",
   "language": "python",
   "name": "python3"
  },
  "language_info": {
   "codemirror_mode": {
    "name": "ipython",
    "version": 3
   },
   "file_extension": ".py",
   "mimetype": "text/x-python",
   "name": "python",
   "nbconvert_exporter": "python",
   "pygments_lexer": "ipython3",
   "version": "3.9.16"
  },
  "orig_nbformat": 4
 },
 "nbformat": 4,
 "nbformat_minor": 2
}
