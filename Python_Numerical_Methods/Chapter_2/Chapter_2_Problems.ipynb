{
 "cells": [
  {
   "cell_type": "markdown",
   "metadata": {},
   "source": [
    "Problems 1 through 4"
   ]
  },
  {
   "cell_type": "code",
   "execution_count": 2,
   "metadata": {},
   "outputs": [
    {
     "name": "stdout",
     "output_type": "stream",
     "text": [
      "Currently, x is equal to 2 and y is equal to 3\n",
      "\n",
      "Variable   Type      Data/Info\n",
      "------------------------------\n",
      "math       module    <module 'math' (built-in)>\n",
      "p          int       1000\n",
      "r          float     -4.352168887114958\n",
      "s          float     -4.940158120464309\n",
      "u          int       13\n",
      "v          int       30\n",
      "w          float     3.3333333333333335\n",
      "x          int       10\n",
      "y          int       3\n",
      "z          float     -0.5440211108893698\n"
     ]
    }
   ],
   "source": [
    "# Problem 1\n",
    "\n",
    "# Variable Assignment\n",
    "\n",
    "x = 2\n",
    "y = 3\n",
    "\n",
    "print(f\"Currently, x is equal to {x} and y is equal to {y}\\n\")\n",
    "\n",
    "del x\n",
    "\n",
    "# Problem 3\n",
    "\n",
    "# Import Statements\n",
    "\n",
    "import math\n",
    "\n",
    "# Variable Assignment\n",
    "\n",
    "x = 10\n",
    "y = 3\n",
    "\n",
    "u = x + y\n",
    "v = x * y\n",
    "w = x / y\n",
    "z = math.sin(x)\n",
    "r = 8 * math.sin(x)\n",
    "s = 5 * math.sin(v)\n",
    "p = x ** y\n",
    "\n",
    "# Variable Display\n",
    "\n",
    "%whos"
   ]
  },
  {
   "cell_type": "code",
   "execution_count": 3,
   "metadata": {},
   "outputs": [
    {
     "ename": "NameError",
     "evalue": "name 'x' is not defined",
     "output_type": "error",
     "traceback": [
      "\u001b[1;31m---------------------------------------------------------------------------\u001b[0m",
      "\u001b[1;31mNameError\u001b[0m                                 Traceback (most recent call last)",
      "Cell \u001b[1;32mIn[3], line 5\u001b[0m\n\u001b[0;32m      1\u001b[0m \u001b[39m# Problem 2\u001b[39;00m\n\u001b[0;32m      3\u001b[0m \u001b[39mdel\u001b[39;00m x\n\u001b[1;32m----> 5\u001b[0m \u001b[39mprint\u001b[39m(x)\n",
      "\u001b[1;31mNameError\u001b[0m: name 'x' is not defined"
     ]
    }
   ],
   "source": [
    "# Problem 2\n",
    "\n",
    "del x\n",
    "\n",
    "print(x)"
   ]
  },
  {
   "cell_type": "markdown",
   "metadata": {},
   "source": [
    "Problems 4 through 11"
   ]
  },
  {
   "cell_type": "code",
   "execution_count": 22,
   "metadata": {},
   "outputs": [
    {
     "name": "stdout",
     "output_type": "stream",
     "text": [
      "<class 'str'>\n",
      "<class 'float'>\n",
      "\n",
      "The two strings, unmodified, are not equivalent\n",
      "Using appropriate string methods, the two strings are equivalent\n",
      "\n",
      "The word 'Engineering' has 11 letters.\n",
      "The word 'Book' has 4 letters.\n",
      "\n",
      "True\n",
      "\n",
      "great\n",
      "\n",
      "[1, 5, 8, 9]\n",
      "[1, 2, 5, 8, 9]\n",
      "[1, 2, 5, 8, 9, 4]\n",
      "[1, 2, 4, 5, 8, 9]\n",
      "['P', 'y', 't', 'h', 'o', 'n', ' ', 'i', 's', ' ', 'g', 'r', 'e', 'a', 't', '!']\n"
     ]
    }
   ],
   "source": [
    "# Problem 4\n",
    "\n",
    "S = '123'\n",
    "N = float(S)\n",
    "\n",
    "print(type(S))\n",
    "print(type(N))\n",
    "\n",
    "# Problem 5\n",
    "\n",
    "s1 = 'HELLO'\n",
    "s2 = 'hello'\n",
    "\n",
    "p1 = \"equivalent\" if s1 == s2 else \"not equivalent\"\n",
    "p2 = \"equivalent\" if s1.lower() == s2 else \"not equivalent\"\n",
    "\n",
    "print(f\"\\nThe two strings, unmodified, are {p1}\")\n",
    "print(f\"Using appropriate string methods, the two strings are {p2}\\n\")\n",
    "\n",
    "# Problem 6\n",
    "\n",
    "print(f\"The word 'Engineering' has 11 letters.\")\n",
    "print(f\"The word 'Book' has 4 letters.\\n\")\n",
    "\n",
    "# Problem 7\n",
    "\n",
    "print(str(\"Python\" in \"Python is great!\") + \"\\n\")\n",
    "\n",
    "# Problem 8\n",
    "\n",
    "print(\"Python is great!\"[10:15] + \"\\n\")\n",
    "\n",
    "# Problem 9\n",
    "\n",
    "list_a = [1, 5, 8, 9]\n",
    "print(list_a)\n",
    "list_a.insert(1, 2)\n",
    "print(list_a)\n",
    "list_a.append(4)\n",
    "print(list_a)\n",
    "\n",
    "# Problem 10\n",
    "\n",
    "list_a.sort()\n",
    "print(list_a)\n",
    "\n",
    "# Problem 11\n",
    "print(list(\"Python is great!\"))\n"
   ]
  },
  {
   "cell_type": "markdown",
   "metadata": {},
   "source": [
    "Problems 12 through"
   ]
  },
  {
   "cell_type": "code",
   "execution_count": 6,
   "metadata": {},
   "outputs": [
    {
     "name": "stdout",
     "output_type": "stream",
     "text": [
      "1\n",
      "{1, 2, 3, 5}\n"
     ]
    }
   ],
   "source": [
    "# Problem 12\n",
    "\n",
    "tuple_a = ('One', 1)\n",
    "\n",
    "# Problem 13\n",
    "\n",
    "print(tuple_a[1])\n",
    "\n",
    "# Problem 14\n",
    "# I assume this is asking for extraction of all unique elements of the tuple\n",
    "tuple_b = (2, 3, 2, 3, 1, 2, 5)\n",
    "print(set(tuple_b))\n",
    "\n",
    "# Problem 15\n",
    "set_a = {2, 3, 2}\n",
    "set_b = {1, 2, 3}\n",
    "\n"
   ]
  }
 ],
 "metadata": {
  "kernelspec": {
   "display_name": "base",
   "language": "python",
   "name": "python3"
  },
  "language_info": {
   "codemirror_mode": {
    "name": "ipython",
    "version": 3
   },
   "file_extension": ".py",
   "mimetype": "text/x-python",
   "name": "python",
   "nbconvert_exporter": "python",
   "pygments_lexer": "ipython3",
   "version": "3.9.16"
  },
  "orig_nbformat": 4
 },
 "nbformat": 4,
 "nbformat_minor": 2
}
